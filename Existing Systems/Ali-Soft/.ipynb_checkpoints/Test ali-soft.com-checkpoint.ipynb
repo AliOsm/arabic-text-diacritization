{
 "cells": [
  {
   "cell_type": "markdown",
   "metadata": {},
   "source": [
    "## 1 - Packages\n",
    "\n",
    "- time\n",
    "- [selenium](https://selenium-python.readthedocs.io)"
   ]
  },
  {
   "cell_type": "code",
   "execution_count": null,
   "metadata": {},
   "outputs": [],
   "source": [
    "import time\n",
    "import os\n",
    "from selenium import webdriver\n",
    "from selenium.webdriver.common.by import By"
   ]
  },
  {
   "cell_type": "markdown",
   "metadata": {},
   "source": [
    "## 2 - Constants"
   ]
  },
  {
   "cell_type": "code",
   "execution_count": null,
   "metadata": {},
   "outputs": [],
   "source": [
    "SITE_URL = 'http://www.ali-soft.com/portal/index.php'\n",
    "SITE_NAME = 'ali-soft'\n",
    "ALTR_LIST = 'ءآأؤإئابةتثجحخدذرزسشصضطظعغفقكلمنهوىي'\n",
    "DIAC_LIST = ['َ', 'ً', 'ِ', 'ٍ', 'ُ', 'ٌ', 'ْ', 'ّ']\n",
    "CLSS_LIST = ['َ', 'ً', 'ُ', 'ٌ', 'ِ', 'ٍ', 'ْ', 'ّ', 'َّ', 'ًّ', 'ُّ', 'ٌّ', 'ِّ', 'ٍّ']\n",
    "\n",
    "DIAC_MAPPING = dict()\n",
    "REV_DIAC_MAPPING = dict()\n",
    "for idx, ch in enumerate(CLSS_LIST):\n",
    "    DIAC_MAPPING[ch] = idx + 1\n",
    "    REV_DIAC_MAPPING[idx + 1] = ch"
   ]
  },
  {
   "cell_type": "markdown",
   "metadata": {},
   "source": [
    "## 3 - Helper functions"
   ]
  },
  {
   "cell_type": "code",
   "execution_count": null,
   "metadata": {},
   "outputs": [],
   "source": [
    "def remove_diacritics(content):\n",
    "    return content.translate(str.maketrans('', '', ''.join(DIAC_LIST)))"
   ]
  },
  {
   "cell_type": "markdown",
   "metadata": {},
   "source": [
    "## 4 - Get test data"
   ]
  },
  {
   "cell_type": "code",
   "execution_count": null,
   "metadata": {
    "scrolled": true
   },
   "outputs": [],
   "source": [
    "file_path = '../test.txt'\n",
    "lines = open(file_path).readlines()"
   ]
  },
  {
   "cell_type": "code",
   "execution_count": null,
   "metadata": {},
   "outputs": [],
   "source": [
    "print('Maximum line length:', max([len(line.split(' ')) for line in lines]), 'words')"
   ]
  },
  {
   "cell_type": "markdown",
   "metadata": {},
   "source": [
    "## 5 - Initialize webdriver\n",
    "\n",
    "Initialize new webdriver using selenium Chrome driver, optionally we can initialize it to start in `headless` mode so the browser GUI does not show up."
   ]
  },
  {
   "cell_type": "code",
   "execution_count": null,
   "metadata": {},
   "outputs": [],
   "source": [
    "options = webdriver.ChromeOptions()\n",
    "# options.add_argument('headless')\n",
    "driver = webdriver.Chrome(options = options)"
   ]
  },
  {
   "cell_type": "markdown",
   "metadata": {},
   "source": [
    "## 6 - Go to the website"
   ]
  },
  {
   "cell_type": "code",
   "execution_count": null,
   "metadata": {},
   "outputs": [],
   "source": [
    "driver.get(SITE_URL)"
   ]
  },
  {
   "cell_type": "markdown",
   "metadata": {},
   "source": [
    "## 7 - Test the website\n",
    "\n",
    "- Get the input text area\n",
    "- Get the output text area\n",
    "- Send each line to the site and wait for the diacritic version"
   ]
  },
  {
   "cell_type": "code",
   "execution_count": null,
   "metadata": {},
   "outputs": [],
   "source": [
    "driver.switch_to.frame(driver.find_element_by_id('modfram1_3'))\n",
    "button = driver.find_element_by_css_selector('#mce_50 button')\n",
    "driver.switch_to.frame(driver.find_element_by_id('content_ifr'))\n",
    "content = driver.find_element_by_id('tinymce')\n",
    "driver.execute_script(\"arguments[0].innerHTML=''\", content)"
   ]
  },
  {
   "cell_type": "code",
   "execution_count": null,
   "metadata": {},
   "outputs": [],
   "source": [
    "result = list()\n",
    "for line in lines:\n",
    "    driver.execute_script(\"arguments[0].innerHTML=arguments[1]\", content, remove_diacritics(line))\n",
    "    driver.switch_to.parent_frame()\n",
    "    button.click()\n",
    "    driver.switch_to.frame(driver.find_element_by_id('content_ifr'))\n",
    "    time.sleep(1)\n",
    "    result.append(content.text)"
   ]
  },
  {
   "cell_type": "markdown",
   "metadata": {},
   "source": [
    "## 6 - Evaluating"
   ]
  },
  {
   "cell_type": "code",
   "execution_count": null,
   "metadata": {},
   "outputs": [],
   "source": [
    "equal = 0\n",
    "not_equal = 0\n",
    "for (original, prediction) in zip(lines, result):\n",
    "    print(original, prediction)\n",
    "    \n",
    "    Y_true = list()\n",
    "    for idx, ch in enumerate(original):\n",
    "        if ch not in ALTR_LIST:\n",
    "            continue\n",
    "            \n",
    "        y_true = 0\n",
    "        if idx + 1 < len(original) and original[idx + 1] in DIAC_LIST:\n",
    "            cur_diac = original[idx + 1]\n",
    "            if idx + 2 < len(original) and original[idx + 2] in DIAC_LIST and cur_diac + original[idx + 2] in DIAC_MAPPING:\n",
    "                cur_diac += original[idx + 2]\n",
    "            y_true = DIAC_MAPPING[cur_diac]\n",
    "        \n",
    "        Y_true.append(y_true)\n",
    "    \n",
    "    cur_y = 0\n",
    "    for idx, ch in enumerate(prediction):\n",
    "        if ch not in ALTR_LIST:\n",
    "            continue\n",
    "        \n",
    "        y_true = 0\n",
    "        if idx + 1 < len(prediction) and prediction[idx + 1] in DIAC_LIST:\n",
    "            cur_diac = prediction[idx + 1]\n",
    "            if idx + 2 < len(prediction) and prediction[idx + 2] in DIAC_LIST and cur_diac + prediction[idx + 2] in DIAC_MAPPING:\n",
    "                cur_diac += prediction[idx + 2]\n",
    "            y_true = DIAC_MAPPING[cur_diac]\n",
    "        \n",
    "        if Y_true[cur_y] == 0:\n",
    "            cur_y += 1\n",
    "            continue\n",
    "            \n",
    "        \n",
    "        equal += (Y_true[cur_y] == y_true)\n",
    "        not_equal += (Y_true[cur_y] != y_true)\n",
    "        \n",
    "        cur_y += 1\n",
    "    \n",
    "    break\n",
    "\n",
    "print(equal, not_equal, equal / (equal + not_equal) * 100)"
   ]
  },
  {
   "cell_type": "markdown",
   "metadata": {},
   "source": [
    "## 7 - Write the content"
   ]
  },
  {
   "cell_type": "code",
   "execution_count": null,
   "metadata": {},
   "outputs": [],
   "source": [
    "file_path = file_path.split(os.sep)\n",
    "file_name = file_path[-1]\n",
    "file_path[-1] = file_name\n",
    "os.mkdir(os.path.join(os.sep.join(file_path[:-1]), SITE_NAME))\n",
    "file_path = os.path.join(os.sep.join(file_path[:-1]), SITE_NAME, file_name)\n",
    "print('Writing:', file_path)\n",
    "with open(file_path, mode='w') as file_writer:\n",
    "    file_writer.write(content)\n",
    "print('Finished!')"
   ]
  }
 ],
 "metadata": {
  "kernelspec": {
   "display_name": "Python 3",
   "language": "python",
   "name": "python3"
  },
  "language_info": {
   "codemirror_mode": {
    "name": "ipython",
    "version": 3
   },
   "file_extension": ".py",
   "mimetype": "text/x-python",
   "name": "python",
   "nbconvert_exporter": "python",
   "pygments_lexer": "ipython3",
   "version": "3.7.0"
  }
 },
 "nbformat": 4,
 "nbformat_minor": 2
}
