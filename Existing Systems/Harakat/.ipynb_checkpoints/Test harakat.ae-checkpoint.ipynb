{
 "cells": [
  {
   "cell_type": "markdown",
   "metadata": {},
   "source": [
    "# 1 - Packages"
   ]
  },
  {
   "cell_type": "code",
   "execution_count": null,
   "metadata": {},
   "outputs": [],
   "source": [
    "import json\n",
    "import requests\n",
    "import pickle as pkl"
   ]
  },
  {
   "cell_type": "markdown",
   "metadata": {},
   "source": [
    "# 2 - Constants"
   ]
  },
  {
   "cell_type": "code",
   "execution_count": null,
   "metadata": {},
   "outputs": [],
   "source": [
    "CONSTANTS_PATH = '../../Helpers/Constants'\n",
    "DATASET_PATH = '../../Dataset'\n",
    "\n",
    "with open(CONSTANTS_PATH + '/DIACRITICS_LIST.pickle', 'rb') as file:\n",
    "    DIACRITICS_LIST = pkl.load(file)\n",
    "\n",
    "SITE_URL = 'https://harakat.ae'\n",
    "SITE_NAME = 'harakat'\n",
    "BATCH_LIMIT = 50\n",
    "USERID = 985\n",
    "KEY = '8b799433020970d578ae4afadb29b022'"
   ]
  },
  {
   "cell_type": "markdown",
   "metadata": {},
   "source": [
    "# 3 - Helper Functions"
   ]
  },
  {
   "cell_type": "code",
   "execution_count": null,
   "metadata": {},
   "outputs": [],
   "source": [
    "def remove_diacritics(content):\n",
    "    return content.translate(str.maketrans('', '', ''.join(DIACRITICS_LIST)))"
   ]
  },
  {
   "cell_type": "markdown",
   "metadata": {},
   "source": [
    "# 4 - Get Testset"
   ]
  },
  {
   "cell_type": "code",
   "execution_count": null,
   "metadata": {
    "scrolled": true
   },
   "outputs": [],
   "source": [
    "lines = open(DATASET_PATH + '/test.txt').readlines()"
   ]
  },
  {
   "cell_type": "markdown",
   "metadata": {},
   "source": [
    "# 5 - Test the website\n",
    "\n",
    "- Iterate over the lines and split each line in batches with `BATCH_LIMIT` size\n",
    "- Send each batch to the site and wait for the diacritic version"
   ]
  },
  {
   "cell_type": "code",
   "execution_count": null,
   "metadata": {
    "scrolled": true
   },
   "outputs": [],
   "source": [
    "result = list()\n",
    "for idx, line in enumerate(lines):\n",
    "    line = remove_diacritics(line)\n",
    "    line = line.strip()\n",
    "    line = line.split()\n",
    "    new_line = list()\n",
    "    i = 0\n",
    "    while i < len(line):\n",
    "        batch = ' '.join(line[i:i + BATCH_LIMIT])\n",
    "        \n",
    "        url = 'http://api.multillect.com/translate/json/1.0/%s?method=translate/api/vocalize&text=%s&sig=%s' % \\\n",
    "        (USERID, batch, KEY)\n",
    "        response = requests.get(url)\n",
    "        \n",
    "        if response == '' or response == None:\n",
    "            continue\n",
    "        \n",
    "        json_data = json.loads(response.text)\n",
    "        \n",
    "        if json_data['error'] != None or json_data['result'] == None:\n",
    "            continue\n",
    "        \n",
    "        new_line.append(json_data['result']['text'])\n",
    "        i += BATCH_LIMIT\n",
    "    result.append(' '.join(new_line))\n",
    "    \n",
    "    print(idx + 1)"
   ]
  },
  {
   "cell_type": "code",
   "execution_count": null,
   "metadata": {},
   "outputs": [],
   "source": [
    "with open('output.txt', 'w') as file:\n",
    "    file.write('\\n'.join(result))"
   ]
  }
 ],
 "metadata": {
  "kernelspec": {
   "display_name": "Python 3",
   "language": "python",
   "name": "python3"
  },
  "language_info": {
   "codemirror_mode": {
    "name": "ipython",
    "version": 3
   },
   "file_extension": ".py",
   "mimetype": "text/x-python",
   "name": "python",
   "nbconvert_exporter": "python",
   "pygments_lexer": "ipython3",
   "version": "3.7.0"
  }
 },
 "nbformat": 4,
 "nbformat_minor": 2
}
